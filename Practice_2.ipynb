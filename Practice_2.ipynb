{
 "cells": [
  {
   "cell_type": "markdown",
   "id": "06417ff2",
   "metadata": {},
   "source": [
    "# Task 01:"
   ]
  },
  {
   "cell_type": "markdown",
   "id": "b58d0d8e",
   "metadata": {},
   "source": [
    "#### Question 01: Write a for loop that calculates the sum of numbers from 1 to 10."
   ]
  },
  {
   "cell_type": "code",
   "execution_count": 3,
   "id": "25008295",
   "metadata": {},
   "outputs": [
    {
     "name": "stdout",
     "output_type": "stream",
     "text": [
      "The sum of numbers from 1 to 10 is: 55\n"
     ]
    }
   ],
   "source": [
    "sum = 0\n",
    "for i in range(1, 11):\n",
    "    sum += i\n",
    "print(\"The sum of numbers from 1 to 10 is:\", sum)"
   ]
  },
  {
   "cell_type": "markdown",
   "id": "de9eb42d",
   "metadata": {},
   "source": [
    "#### Question 02: Print the items of the list [“Python”, “Numpy”, “Pandas”] in reverse order using a for loop.\n"
   ]
  },
  {
   "cell_type": "code",
   "execution_count": 4,
   "id": "401f4bb9",
   "metadata": {},
   "outputs": [
    {
     "name": "stdout",
     "output_type": "stream",
     "text": [
      "Pandas\n",
      "Numpy\n",
      "Python\n"
     ]
    }
   ],
   "source": [
    "list = [\"Python\", \"Numpy\", \"Pandas\"]\n",
    "for item in reversed(list):\n",
    "    print(item)"
   ]
  },
  {
   "cell_type": "markdown",
   "id": "8906f24f",
   "metadata": {},
   "source": [
    "# Task 02:"
   ]
  },
  {
   "cell_type": "markdown",
   "id": "bde2ac3a",
   "metadata": {},
   "source": [
    "#### Question 01: Implement a guessing game with a while loop where the user has to guess a set number (e.g., 3). The loop terminates once the user guesses correctly."
   ]
  },
  {
   "cell_type": "code",
   "execution_count": 5,
   "id": "598a9219",
   "metadata": {},
   "outputs": [
    {
     "name": "stdout",
     "output_type": "stream",
     "text": [
      "Guess the number: 3\n",
      "Congratulations! You guessed the correct number.\n"
     ]
    }
   ],
   "source": [
    "set_number = 3\n",
    "correct_guess = False\n",
    "while not correct_guess:\n",
    "    guess = int(input(\"Guess the number: \"))\n",
    "    \n",
    "    if guess == set_number:\n",
    "        print(\"Congratulations! You guessed the correct number.\")\n",
    "        correct_guess = True\n",
    "    else:\n",
    "        print(\"Oppsss! Hard Luck. Please Try again!\")"
   ]
  },
  {
   "cell_type": "markdown",
   "id": "328efafb",
   "metadata": {},
   "source": [
    "#### Question 02: Write a while loop that asks for user input and adds it to a list. Exit the loop when the user types \"done\"."
   ]
  },
  {
   "cell_type": "code",
   "execution_count": 6,
   "id": "030f2947",
   "metadata": {},
   "outputs": [
    {
     "name": "stdout",
     "output_type": "stream",
     "text": [
      "Enter a value to add it to the empty list (type 'done' to exit): 2\n",
      "Enter a value to add it to the empty list (type 'done' to exit): 3\n",
      "Enter a value to add it to the empty list (type 'done' to exit): 4\n",
      "Enter a value to add it to the empty list (type 'done' to exit): done\n",
      "List of inputs: ['2', '3', '4']\n"
     ]
    }
   ],
   "source": [
    "empty_list = []\n",
    "\n",
    "while True:\n",
    "    user_input = input(\"Enter a value to add it to the empty list (type 'done' to exit): \")\n",
    "    \n",
    "    if user_input.lower() == \"done\":\n",
    "        break\n",
    "    else:\n",
    "        empty_list.append(user_input)\n",
    "\n",
    "print(\"List of inputs:\", empty_list)"
   ]
  },
  {
   "cell_type": "markdown",
   "id": "a523255b",
   "metadata": {},
   "source": [
    "# Task 03:"
   ]
  },
  {
   "cell_type": "markdown",
   "id": "6d79bd06",
   "metadata": {},
   "source": [
    "#### Question 01: Write a function that prints all even numbers between 1 and 20. "
   ]
  },
  {
   "cell_type": "code",
   "execution_count": 13,
   "id": "4aa0befd",
   "metadata": {},
   "outputs": [
    {
     "name": "stdout",
     "output_type": "stream",
     "text": [
      "Even numbers between 1 and 20:\n",
      "2 4 6 8 10 12 14 16 18 20 "
     ]
    }
   ],
   "source": [
    "def even_numbers():\n",
    "    print(\"Even numbers between 1 and 20:\")\n",
    "    for number in range(2, 21, 2):\n",
    "        print(number, end=\" \")\n",
    "\n",
    "even_numbers()"
   ]
  },
  {
   "cell_type": "markdown",
   "id": "cd9a51a1",
   "metadata": {},
   "source": [
    "#### Question 02: Write a function that takes a list and a number as arguments and returns."
   ]
  },
  {
   "cell_type": "code",
   "execution_count": 35,
   "id": "5b2a6500",
   "metadata": {},
   "outputs": [
    {
     "name": "stdout",
     "output_type": "stream",
     "text": [
      "The number 4 is found in the list.\n"
     ]
    }
   ],
   "source": [
    "def find_number_in_list(list, num):\n",
    "    if num in list:\n",
    "        return num\n",
    "    else:\n",
    "        return None\n",
    "\n",
    "my_list = [1, 2, 3, 4, 5]\n",
    "search_number = 4\n",
    "result = find_number_in_list(my_list, search_number)\n",
    "if result is not None:\n",
    "    print(f\"The number {search_number} is found in the list.\")\n",
    "else:\n",
    "    print(f\"The number {search_number} is not found in the list.\")\n"
   ]
  },
  {
   "cell_type": "markdown",
   "id": "99f94f3d",
   "metadata": {},
   "source": [
    "#### Question 03: Write a function calculator that takes three arguments: two numbers and an operation (as a string, e.g., \"add\", \"subtract\", \"multiply\", \"divide\") and returns the result of the operation."
   ]
  },
  {
   "cell_type": "code",
   "execution_count": 29,
   "id": "376ea3dc",
   "metadata": {},
   "outputs": [
    {
     "name": "stdout",
     "output_type": "stream",
     "text": [
      "11 \n",
      " 0.8333333333333334\n"
     ]
    }
   ],
   "source": [
    "def calculator(num1, num2, operation):\n",
    "    if operation == \"add\":\n",
    "        return num1 + num2\n",
    "    elif operation == \"subtract\":\n",
    "        return num1 - num2\n",
    "    elif operation == \"multiply\":\n",
    "        return num1 * num2\n",
    "    elif operation == \"divide\":\n",
    "        if num2 !=0:\n",
    "            return num1/num2\n",
    "        else:\n",
    "            return \"Error: Cannot divide by zero\"\n",
    "    else:\n",
    "        return \"Invalid Opertion\"\n",
    "    \n",
    "print(calculator(5,6, \"add\"),'\\n',\n",
    "      calculator(5,6, \"divide\"))"
   ]
  },
  {
   "cell_type": "markdown",
   "id": "f05296b6",
   "metadata": {},
   "source": [
    "#### Question 04: Write a function that takes a list of numbers and returns the maximum number in the list?"
   ]
  },
  {
   "cell_type": "code",
   "execution_count": 30,
   "id": "c1efdae6",
   "metadata": {},
   "outputs": [
    {
     "name": "stdout",
     "output_type": "stream",
     "text": [
      "55\n"
     ]
    }
   ],
   "source": [
    "def maximum(numbers):\n",
    "    if not numbers:\n",
    "        return \"Error: The list is empty.\"\n",
    "    max_number = numbers[0]\n",
    "    for n in numbers:\n",
    "        if n>max_number:\n",
    "            max_number=n\n",
    "    return max_number\n",
    "\n",
    "print(maximum([17,54,33,55]))"
   ]
  },
  {
   "cell_type": "markdown",
   "id": "04ec23e9",
   "metadata": {},
   "source": [
    "#### Question 05: Create a lambda function that takes two numbers and returns their product."
   ]
  },
  {
   "cell_type": "code",
   "execution_count": 31,
   "id": "af24e018",
   "metadata": {},
   "outputs": [
    {
     "name": "stdout",
     "output_type": "stream",
     "text": [
      "30\n"
     ]
    }
   ],
   "source": [
    "product = lambda a, b : a * b\n",
    "print(product(5, 6))"
   ]
  },
  {
   "cell_type": "markdown",
   "id": "d91c2afd",
   "metadata": {},
   "source": [
    "#### Question 06: Write a function that takes a list and returns a new list containing only the even numbers from the original list."
   ]
  },
  {
   "cell_type": "code",
   "execution_count": 32,
   "id": "edf80767",
   "metadata": {},
   "outputs": [
    {
     "name": "stdout",
     "output_type": "stream",
     "text": [
      "[6, 8]\n"
     ]
    }
   ],
   "source": [
    "def even_numbers(numbers):\n",
    "    return [n for n in numbers if n%2==0]\n",
    "\n",
    "print(even_numbers([1,3,5,6,7,8]))"
   ]
  },
  {
   "cell_type": "code",
   "execution_count": null,
   "id": "6e75d016",
   "metadata": {},
   "outputs": [],
   "source": []
  }
 ],
 "metadata": {
  "kernelspec": {
   "display_name": "Python 3 (ipykernel)",
   "language": "python",
   "name": "python3"
  },
  "language_info": {
   "codemirror_mode": {
    "name": "ipython",
    "version": 3
   },
   "file_extension": ".py",
   "mimetype": "text/x-python",
   "name": "python",
   "nbconvert_exporter": "python",
   "pygments_lexer": "ipython3",
   "version": "3.11.5"
  }
 },
 "nbformat": 4,
 "nbformat_minor": 5
}
