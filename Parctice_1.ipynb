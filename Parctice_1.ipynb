{
 "cells": [
  {
   "cell_type": "markdown",
   "id": "b5eafe02",
   "metadata": {},
   "source": [
    "# Assignment: 01"
   ]
  },
  {
   "cell_type": "markdown",
   "id": "4dc12335",
   "metadata": {},
   "source": [
    "### Task 1: Variables and Data Types"
   ]
  },
  {
   "cell_type": "markdown",
   "id": "a38c8489",
   "metadata": {},
   "source": [
    "a) Create three variables: one for storing your age (integer), one for your name (string), and one\n",
    "to check if you are a student (Boolean). Print the variables.\n",
    "b) Perform the following operations and print the results: - Add 25 to your age variable. -\n",
    "Concatenate your name with the string \"Smith.\" - Negate the Boolean variable (if True, make it\n",
    "False, and vice versa)."
   ]
  },
  {
   "cell_type": "code",
   "execution_count": 17,
   "id": "e4860d2a",
   "metadata": {},
   "outputs": [
    {
     "name": "stdout",
     "output_type": "stream",
     "text": [
      "Age: 26\n",
      "Name: Tila\n",
      "Is Student: True\n",
      "\n",
      "Age after adding 25: 51\n",
      "Name after concatenation: Tila Smith\n",
      "Is Student after negation: False\n"
     ]
    }
   ],
   "source": [
    "# a) Create variables\n",
    "age = 26  # Integer variable to store age\n",
    "name = \"Tila\"  # String variable to store name\n",
    "is_student = True  # Boolean variable to check if a student\n",
    "\n",
    "# Print variables\n",
    "print(\"Age:\", age)\n",
    "print(\"Name:\", name)\n",
    "print(\"Is Student:\", is_student)\n",
    "\n",
    "# b) Perform operations\n",
    "age = age + 25  # Add 25 to age variable\n",
    "name = name + \" Smith\"  # Concatenate name with \"Smith\"\n",
    "is_student = not is_student  # Negate boolean value\n",
    "\n",
    "# Print the results\n",
    "print(\"\\nAge after adding 25:\", age)\n",
    "print(\"Name after concatenation:\", name)\n",
    "print(\"Is Student after negation:\", is_student)\n"
   ]
  },
  {
   "cell_type": "markdown",
   "id": "cc413a65",
   "metadata": {},
   "source": [
    "### String Manipulation"
   ]
  },
  {
   "cell_type": "code",
   "execution_count": 21,
   "id": "bf3092bb",
   "metadata": {},
   "outputs": [
    {
     "name": "stdout",
     "output_type": "stream",
     "text": [
      "Python is a powerful programming language.\n"
     ]
    }
   ],
   "source": [
    "# a) Create a string variable called \"sentence\" containing the sentence \"Python is a powerful programming language\"\n",
    "sentence = \"Python is a powerful programming language.\"\n",
    "\n",
    "# Print the sentence\n",
    "print(sentence)"
   ]
  },
  {
   "cell_type": "code",
   "execution_count": 22,
   "id": "16ab3bbd",
   "metadata": {},
   "outputs": [
    {
     "name": "stdout",
     "output_type": "stream",
     "text": [
      "Number of characters in the sentence: 42\n"
     ]
    }
   ],
   "source": [
    "# b) Count the number of characters in the \"sentence\" and print the result\n",
    "no_of_characters = len(sentence)\n",
    "print(\"Number of characters in the sentence:\", no_of_characters)"
   ]
  },
  {
   "cell_type": "code",
   "execution_count": 23,
   "id": "b876a772",
   "metadata": {},
   "outputs": [
    {
     "name": "stdout",
     "output_type": "stream",
     "text": [
      "Is the word 'Python' present in the sentence: True\n"
     ]
    }
   ],
   "source": [
    "# c) Check if the word \"Python\" is present in the \"sentence\" and print the result (True/False)\n",
    "check_if_present = \"Python\" in sentence\n",
    "print(\"Is the word 'Python' present in the sentence:\", check_if_present)"
   ]
  },
  {
   "cell_type": "code",
   "execution_count": 26,
   "id": "7bb298fa",
   "metadata": {},
   "outputs": [
    {
     "name": "stdout",
     "output_type": "stream",
     "text": [
      "Updated sentence: Python is a versatile programming language.\n"
     ]
    }
   ],
   "source": [
    "# d) Replace the word \"powerful\" with \"versatile\" in the \"sentence\" and print the updated sentence\n",
    "updated_sentence = sentence.replace(\"powerful\", \"versatile\")\n",
    "print(\"Updated sentence:\", updated_sentence)"
   ]
  },
  {
   "cell_type": "code",
   "execution_count": 28,
   "id": "61276970",
   "metadata": {},
   "outputs": [
    {
     "name": "stdout",
     "output_type": "stream",
     "text": [
      "List of words in the sentence: ['Python', 'is', 'a', 'powerful', 'programming', 'language.']\n"
     ]
    }
   ],
   "source": [
    "# e) Split the \"sentence\" into a list of words and print the list\n",
    "word_list = sentence.split()\n",
    "print(\"List of words in the sentence:\", word_list)"
   ]
  },
  {
   "cell_type": "markdown",
   "id": "4279bb82",
   "metadata": {},
   "source": [
    "### Expressions and Operators"
   ]
  },
  {
   "cell_type": "markdown",
   "id": "cc74de0f",
   "metadata": {},
   "source": [
    "a) A rectangle has a width of 5.5 units and a height of 3.25 units. Store width and height in\n",
    "variables. Create a new variable called area and write an expression to calculate the area. Print\n",
    "the area in the output."
   ]
  },
  {
   "cell_type": "code",
   "execution_count": 30,
   "id": "6a5941dc",
   "metadata": {},
   "outputs": [
    {
     "name": "stdout",
     "output_type": "stream",
     "text": [
      "The area of the rectangle is: 17.875 square units\n"
     ]
    }
   ],
   "source": [
    "# Store width and height in variables\n",
    "width = 5.5  # units\n",
    "height = 3.25  # units\n",
    "\n",
    "# Calculate the area of the rectangle\n",
    "area = width * height\n",
    "\n",
    "# Print the area\n",
    "print(\"The area of the rectangle is:\", area, \"square units\")\n"
   ]
  },
  {
   "cell_type": "markdown",
   "id": "fea2bb13",
   "metadata": {},
   "source": [
    "b) Create a temperature variable in Celsius. Convert it to Fahrenheit using the formula: F = (C *\n",
    "9/5) + 32. Store this temperature in a variable called Fahrenheit and print this variable. a) Create\n",
    "a variable called radius and give it a value of 5. Calculate the area of a circle with this radius\n",
    "and store it in a variable called area. Print area at the end of your code. (Use the formula: area =\n",
    "π * radius^2, where π (pi) is approximately 3.14159)."
   ]
  },
  {
   "cell_type": "code",
   "execution_count": 37,
   "id": "263f69a7",
   "metadata": {},
   "outputs": [
    {
     "name": "stdout",
     "output_type": "stream",
     "text": [
      "Temperature in Fahrenheit: 77.0 °F\n",
      "Area of the circle: 78.53975 square units\n"
     ]
    }
   ],
   "source": [
    "temperature_celsius = 25  # Variable in Celsius\n",
    "Fahrenheit = (temperature_celsius * 9/5) + 32  # Convert Celsius to Fahrenheit\n",
    "print(\"Temperature in Fahrenheit:\", Fahrenheit, \"°F\")\n",
    "\n",
    "radius = 5  # Variable of Radius of the circle\n",
    "area = 3.14159 * radius ** 2  # Calculate area using the formula for the area of a circle\n",
    "print(\"Area of the circle:\", area, \"square units\")\n"
   ]
  },
  {
   "cell_type": "markdown",
   "id": "0a3524ed",
   "metadata": {},
   "source": [
    "## Introduction to Data Structures"
   ]
  },
  {
   "cell_type": "markdown",
   "id": "6d61bfa6",
   "metadata": {},
   "source": [
    "### List"
   ]
  },
  {
   "cell_type": "markdown",
   "id": "6a570c41",
   "metadata": {},
   "source": [
    "#### a) Create a list called \"fruits\" containing the following fruits: \"apple,\" \"banana,\" \"orange,\",\"grape,\" and \"kiwi.\" Print the list."
   ]
  },
  {
   "cell_type": "code",
   "execution_count": 43,
   "id": "a153b39c",
   "metadata": {},
   "outputs": [
    {
     "name": "stdout",
     "output_type": "stream",
     "text": [
      "List of fruits: ['apple', 'banana', 'orange', 'grape', 'kiwi']\n"
     ]
    }
   ],
   "source": [
    "#Create a list called \"fruits\"\n",
    "fruits = [\"apple\", \"banana\", \"orange\", \"grape\", \"kiwi\"]\n",
    "\n",
    "#Print the list\n",
    "print(\"List of fruits:\", fruits)\n"
   ]
  },
  {
   "cell_type": "markdown",
   "id": "0070f0f8",
   "metadata": {},
   "source": [
    "#### b) Create another list called \"vegetables\" containing the following vegetables: \"carrot,\" \"lettuce,\" \"tomato,\" \"broccoli,\" and \"spinach.\" Print the list."
   ]
  },
  {
   "cell_type": "code",
   "execution_count": 44,
   "id": "436b62ab",
   "metadata": {},
   "outputs": [
    {
     "name": "stdout",
     "output_type": "stream",
     "text": [
      "List of vegetables: ['carrot', 'lettuce', 'tomato', 'broccoli', 'spinach']\n"
     ]
    }
   ],
   "source": [
    "# Create a list called \"vegetables\"\n",
    "vegetables = [\"carrot\", \"lettuce\", \"tomato\", \"broccoli\", \"spinach\"]\n",
    "\n",
    "# Print the list\n",
    "print(\"List of vegetables:\", vegetables)\n"
   ]
  },
  {
   "cell_type": "markdown",
   "id": "76f95edf",
   "metadata": {},
   "source": [
    "#### c) Concatenate the \"fruits\" list with the \"vegetables\" list and store the result in a new list called \"groceries\". Print the \"groceries\" list."
   ]
  },
  {
   "cell_type": "code",
   "execution_count": 45,
   "id": "63c0edd6",
   "metadata": {},
   "outputs": [
    {
     "name": "stdout",
     "output_type": "stream",
     "text": [
      "List of groceries: ['apple', 'banana', 'orange', 'grape', 'kiwi', 'carrot', 'lettuce', 'tomato', 'broccoli', 'spinach']\n"
     ]
    }
   ],
   "source": [
    "# Concatenate the \"fruits\" list with the \"vegetables\" list\n",
    "groceries = fruits + vegetables\n",
    "\n",
    "# Print the \"groceries\" list\n",
    "print(\"List of groceries:\", groceries)"
   ]
  },
  {
   "cell_type": "markdown",
   "id": "77e5fe88",
   "metadata": {},
   "source": [
    "#### d) Sort the \"groceries\" list in alphabetical order and print it."
   ]
  },
  {
   "cell_type": "code",
   "execution_count": 47,
   "id": "11f5ca61",
   "metadata": {},
   "outputs": [
    {
     "name": "stdout",
     "output_type": "stream",
     "text": [
      "Sorted groceries list: ['apple', 'banana', 'broccoli', 'carrot', 'grape', 'kiwi', 'lettuce', 'orange', 'spinach', 'tomato']\n"
     ]
    }
   ],
   "source": [
    "# Sort the \"groceries\" list in alphabetical order\n",
    "groceries.sort()\n",
    "print(\"Sorted groceries list:\", groceries)"
   ]
  },
  {
   "cell_type": "markdown",
   "id": "788fb360",
   "metadata": {},
   "source": [
    "#### e) Remove the \"banana\" from the \"fruits\" list and print the updated \"fruits\" list."
   ]
  },
  {
   "cell_type": "code",
   "execution_count": 48,
   "id": "0d0e2e3e",
   "metadata": {},
   "outputs": [
    {
     "name": "stdout",
     "output_type": "stream",
     "text": [
      "Updated fruits list after removing 'banana': ['apple', 'orange', 'grape', 'kiwi']\n"
     ]
    }
   ],
   "source": [
    "# Remove \"banana\" from the \"fruits\" list\n",
    "fruits.remove(\"banana\")\n",
    "print(\"Updated fruits list after removing 'banana':\", fruits)"
   ]
  },
  {
   "cell_type": "markdown",
   "id": "75191251",
   "metadata": {},
   "source": [
    "### Tuple"
   ]
  },
  {
   "cell_type": "markdown",
   "id": "0e5ed68e",
   "metadata": {},
   "source": [
    "#### a) Create a tuple named \"colors\" with the names of three colors of your choice. Print the tuple."
   ]
  },
  {
   "cell_type": "code",
   "execution_count": 49,
   "id": "91779229",
   "metadata": {},
   "outputs": [
    {
     "name": "stdout",
     "output_type": "stream",
     "text": [
      "Tuple of colors: ('red', 'green', 'blue')\n"
     ]
    }
   ],
   "source": [
    "# Create a tuple named \"colors\" with three color names\n",
    "colors = (\"red\", \"green\", \"blue\")\n",
    "\n",
    "# Print the tuple\n",
    "print(\"Tuple of colors:\", colors)"
   ]
  },
  {
   "cell_type": "markdown",
   "id": "76e35f9f",
   "metadata": {},
   "source": [
    "#### b) Access the second element of the \"colors\" tuple and print it."
   ]
  },
  {
   "cell_type": "code",
   "execution_count": 50,
   "id": "7ea18c20",
   "metadata": {},
   "outputs": [
    {
     "name": "stdout",
     "output_type": "stream",
     "text": [
      "Second element of the 'colors' tuple: green\n"
     ]
    }
   ],
   "source": [
    "# Access the second element of the \"colors\" tuple by the index number\n",
    "second_color = colors[1]\n",
    "\n",
    "# Print the second element\n",
    "print(\"Second element of the 'colors' tuple:\", second_color)\n"
   ]
  },
  {
   "cell_type": "markdown",
   "id": "e565993f",
   "metadata": {},
   "source": [
    "#### c) Concatenate the \"months\" tuple with the \"colors\" tuple and store the result in a new tuple called \"combined_tuple\". Print the \"combined_tuple\"."
   ]
  },
  {
   "cell_type": "code",
   "execution_count": 52,
   "id": "01a91af0",
   "metadata": {},
   "outputs": [
    {
     "name": "stdout",
     "output_type": "stream",
     "text": [
      "Combined tuple: ('January', 'February', 'March', 'red', 'green', 'blue')\n"
     ]
    }
   ],
   "source": [
    "# Create a variable called 'months'\n",
    "months = (\"January\", \"February\", \"March\")\n",
    "\n",
    "# Concatenate the \"months\" tuple with the \"colors\" tuple\n",
    "combined_tuple = months + colors\n",
    "\n",
    "# Print the \"combined_tuple\"\n",
    "print(\"Combined tuple:\", combined_tuple)\n"
   ]
  },
  {
   "cell_type": "code",
   "execution_count": null,
   "id": "1143561a",
   "metadata": {},
   "outputs": [],
   "source": []
  }
 ],
 "metadata": {
  "kernelspec": {
   "display_name": "Python 3 (ipykernel)",
   "language": "python",
   "name": "python3"
  },
  "language_info": {
   "codemirror_mode": {
    "name": "ipython",
    "version": 3
   },
   "file_extension": ".py",
   "mimetype": "text/x-python",
   "name": "python",
   "nbconvert_exporter": "python",
   "pygments_lexer": "ipython3",
   "version": "3.11.5"
  }
 },
 "nbformat": 4,
 "nbformat_minor": 5
}
